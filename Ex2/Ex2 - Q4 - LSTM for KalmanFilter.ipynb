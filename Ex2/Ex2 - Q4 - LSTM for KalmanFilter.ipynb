{
 "cells": [
  {
   "cell_type": "code",
   "execution_count": 129,
   "id": "9df8163d-dba6-4864-91d5-fe1a86877345",
   "metadata": {},
   "outputs": [],
   "source": [
    "import numpy as np\n",
    "import pandas as pd\n",
    "\n",
    "A = 0.1*np.array([[np.sqrt(99), -1], [1, np.sqrt(99)]])\n",
    "B = 0.5*np.array([[np.sqrt(2), -2], [np.sqrt(2), np.sqrt(2)]])\n",
    "\n",
    "sigma1 = .01\n",
    "sigma2 = .2\n",
    "\n",
    "X_0 = np.array([[1,0]]).T\n",
    "Y_0 = np.dot(B, X_0) + np.random.normal(loc=0, scale=sigma2)"
   ]
  },
  {
   "cell_type": "code",
   "execution_count": 130,
   "id": "ebd0d057-bd7c-440a-b829-79b7ad841889",
   "metadata": {},
   "outputs": [],
   "source": [
    "process_length = 2000\n",
    "\n",
    "X = [X_0]\n",
    "Y = [Y_0]\n",
    "\n",
    "for _ in range(process_length):\n",
    "    X_k = X[-1]\n",
    "    X_k_next = np.dot(A, X_k) + np.random.normal(loc=0, scale=sigma1)    \n",
    "    Y_k_next = np.dot(B, X_k_next) + np.random.normal(loc=0, scale=sigma2)\n",
    "    X.append(X_k_next)    \n",
    "    Y.append(Y_k_next)\n",
    "\n",
    "def sliding_windows(data, seq_length):\n",
    "    x = []\n",
    "    y = []\n",
    "\n",
    "    for i in range(len(data)-seq_length-1):\n",
    "        _x = data[i:(i+seq_length)]\n",
    "        _y = data[i+seq_length]\n",
    "        x.append(_x)\n",
    "        y.append(_y)\n",
    "\n",
    "    return np.array(x),np.array(y)"
   ]
  },
  {
   "cell_type": "code",
   "execution_count": 143,
   "id": "4db40d6c-6957-47df-a00c-c37af2d03919",
   "metadata": {},
   "outputs": [],
   "source": [
    "import torch.utils.data as data_utils\n",
    "\n",
    "# Device configuration\n",
    "device = torch.device('cuda' if torch.cuda.is_available() else 'cpu')\n",
    "\n",
    "# Hyper-parameters\n",
    "sequence_length = 28\n",
    "input_size = 2\n",
    "hidden_size = 4\n",
    "num_layers = 1\n",
    "num_classes = 2\n",
    "batch_size = 4\n",
    "num_epochs = 5\n",
    "learning_rate = 0.01\n",
    "\n",
    "Y_seq, Y_target = sliding_windows(Y, sequence_length)\n",
    "    \n",
    "Y_seq = Variable(torch.Tensor(Y_seq.reshape(-1, sequence_length, 1, 2)))\n",
    "Y_target = Variable(torch.Tensor(Y_target.reshape(-1, 1, 2)))\n",
    "\n",
    "\n",
    "train_tensor = data_utils.TensorDataset(Y_seq[:train_samples], Y_target[:train_samples]) \n",
    "train_loader = data_utils.DataLoader(dataset = train_tensor, batch_size = batch_size)\n",
    "test_tensor = data_utils.TensorDataset(Y_seq[-train_samples:], Y_target[-train_samples:]) \n",
    "test_loader = data_utils.DataLoader(dataset = test_tensor, batch_size = batch_size)\n",
    "\n",
    "# Recurrent neural network (many-to-one)\n",
    "class RNN(nn.Module):\n",
    "    def __init__(self, input_size, hidden_size, num_layers, num_classes):\n",
    "        super(RNN, self).__init__()\n",
    "        self.hidden_size = hidden_size\n",
    "        self.num_layers = num_layers\n",
    "        self.lstm = nn.LSTM(input_size, hidden_size, num_layers, batch_first=True)\n",
    "        self.fc = nn.Linear(hidden_size, num_classes)\n",
    "        self.last_hidden = None\n",
    "    \n",
    "    def forward(self, x):\n",
    "        # Set initial hidden and cell states \n",
    "        h0 = torch.zeros(self.num_layers, x.size(0), self.hidden_size).to(device) \n",
    "        c0 = torch.zeros(self.num_layers, x.size(0), self.hidden_size).to(device)\n",
    "        \n",
    "        # Forward propagate LSTM\n",
    "        out, hidden = self.lstm(x, (h0, c0))  # out: tensor of shape (batch_size, seq_length, hidden_size)\n",
    "        self.last_hidden = hidden\n",
    "        # Decode the hidden state of the last time step\n",
    "        out = self.fc(out[:, -1, :])\n",
    "        return out\n",
    "\n",
    "model = RNN(input_size, hidden_size, num_layers, num_classes).to(device)"
   ]
  },
  {
   "cell_type": "code",
   "execution_count": 144,
   "id": "015312be-cd8b-425a-adf6-fcd4ca2a21b4",
   "metadata": {},
   "outputs": [
    {
     "name": "stdout",
     "output_type": "stream",
     "text": [
      "Epoch [1/5], Step [100/1000], Loss: 0.0676\n",
      "Epoch [1/5], Step [200/1000], Loss: 0.0548\n",
      "Epoch [2/5], Step [100/1000], Loss: 0.0586\n",
      "Epoch [2/5], Step [200/1000], Loss: 0.0589\n",
      "Epoch [3/5], Step [100/1000], Loss: 0.0575\n",
      "Epoch [3/5], Step [200/1000], Loss: 0.0632\n",
      "Epoch [4/5], Step [100/1000], Loss: 0.0572\n",
      "Epoch [4/5], Step [200/1000], Loss: 0.0610\n",
      "Epoch [5/5], Step [100/1000], Loss: 0.0624\n",
      "Epoch [5/5], Step [200/1000], Loss: 0.0672\n"
     ]
    }
   ],
   "source": [
    "train_samples = 1000\n",
    "\n",
    "# Loss and optimizer\n",
    "criterion = nn.MSELoss()\n",
    "optimizer = torch.optim.Adam(model.parameters(), lr=learning_rate)\n",
    "total_step = train_samples\n",
    "# Train the model\n",
    "for epoch in range(num_epochs):\n",
    "    for i, (Y_seq_i, Y_target_i) in enumerate(train_loader):\n",
    "        Y_seq_i = Y_seq_i.reshape(-1, sequence_length, input_size).to(device)\n",
    "        Y_target_i = Y_target_i.reshape(-1, num_classes).to(device)\n",
    "        # Forward pass\n",
    "        outputs = model(Y_seq_i)\n",
    "        loss = criterion(outputs, Y_target_i)\n",
    "        \n",
    "        # Backward and optimize\n",
    "        optimizer.zero_grad()\n",
    "        loss.backward()\n",
    "        optimizer.step()\n",
    "        \n",
    "        if (i+1) % 100 == 0:\n",
    "            print ('Epoch [{}/{}], Step [{}/{}], Loss: {:.4f}' \n",
    "                   .format(epoch+1, num_epochs, i+1, total_step, loss.item()))"
   ]
  },
  {
   "cell_type": "code",
   "execution_count": 145,
   "id": "2e7ba50a-0d92-4568-94ac-90d5cf69d360",
   "metadata": {},
   "outputs": [],
   "source": [
    "Y1001_hat = model(Y_seq[1001])"
   ]
  },
  {
   "cell_type": "code",
   "execution_count": 146,
   "id": "516d9b2b-6063-4509-8d90-75639a70364d",
   "metadata": {},
   "outputs": [
    {
     "data": {
      "text/plain": [
       "tensor([-0.7856, -0.6261])"
      ]
     },
     "execution_count": 146,
     "metadata": {},
     "output_type": "execute_result"
    }
   ],
   "source": [
    "Y1001_hat.data[-1]"
   ]
  },
  {
   "cell_type": "code",
   "execution_count": 147,
   "id": "bdc2acc2-445c-42cc-94f3-0aae630c0a77",
   "metadata": {},
   "outputs": [
    {
     "data": {
      "text/plain": [
       "tensor([[-0.8617, -0.3930]])"
      ]
     },
     "execution_count": 147,
     "metadata": {},
     "output_type": "execute_result"
    }
   ],
   "source": [
    "Y_target[1001]"
   ]
  },
  {
   "cell_type": "code",
   "execution_count": 153,
   "id": "1b4fd9ff-4944-4c2f-b7e4-8245a8964102",
   "metadata": {},
   "outputs": [
    {
     "data": {
      "text/plain": [
       "tensor([ 0.2252, -0.1959,  0.4192,  0.3331])"
      ]
     },
     "execution_count": 153,
     "metadata": {},
     "output_type": "execute_result"
    }
   ],
   "source": [
    "model.last_hidden[0].data.reshape(-1, 4)[-1]"
   ]
  },
  {
   "cell_type": "code",
   "execution_count": 154,
   "id": "d2128469-d76d-4fe1-bc5d-22cd11735929",
   "metadata": {},
   "outputs": [
    {
     "data": {
      "text/plain": [
       "array([[1.58113851],\n",
       "       [0.25405971]])"
      ]
     },
     "execution_count": 154,
     "metadata": {},
     "output_type": "execute_result"
    }
   ],
   "source": [
    "X[1001]"
   ]
  },
  {
   "cell_type": "code",
   "execution_count": null,
   "id": "9a05f0d8-427f-4078-803a-6624337e1d01",
   "metadata": {},
   "outputs": [],
   "source": []
  }
 ],
 "metadata": {
  "kernelspec": {
   "display_name": "Python 3 (ipykernel)",
   "language": "python",
   "name": "python3"
  },
  "language_info": {
   "codemirror_mode": {
    "name": "ipython",
    "version": 3
   },
   "file_extension": ".py",
   "mimetype": "text/x-python",
   "name": "python",
   "nbconvert_exporter": "python",
   "pygments_lexer": "ipython3",
   "version": "3.9.7"
  }
 },
 "nbformat": 4,
 "nbformat_minor": 5
}
