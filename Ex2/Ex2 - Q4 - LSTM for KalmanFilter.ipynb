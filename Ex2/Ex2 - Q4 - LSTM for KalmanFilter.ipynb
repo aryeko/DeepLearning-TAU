{
 "cells": [
  {
   "cell_type": "code",
   "execution_count": 1,
   "id": "9df8163d-dba6-4864-91d5-fe1a86877345",
   "metadata": {},
   "outputs": [],
   "source": [
    "import numpy as np\n",
    "import pandas as pd\n",
    "\n",
    "A = 0.1*np.array([[np.sqrt(99), -1], [1, np.sqrt(99)]])\n",
    "B = 0.5*np.array([[np.sqrt(2), -2], [np.sqrt(2), np.sqrt(2)]])\n",
    "\n",
    "sigma1 = .01\n",
    "sigma2 = .2\n",
    "\n",
    "X_0 = np.array([[1,0]]).T\n",
    "Y_0 = np.dot(B, X_0) + np.random.normal(loc=0, scale=sigma2, size=2).reshape(2,1)"
   ]
  },
  {
   "cell_type": "code",
   "execution_count": 2,
   "id": "ebd0d057-bd7c-440a-b829-79b7ad841889",
   "metadata": {},
   "outputs": [],
   "source": [
    "process_length = 2000\n",
    "\n",
    "X = [X_0]\n",
    "Y = [Y_0]\n",
    "\n",
    "for _ in range(process_length):\n",
    "    X_k = X[-1]\n",
    "    X_k_next = np.dot(A, X_k) + np.random.normal(loc=0, scale=sigma1, size=2).reshape(2,1)\n",
    "    Y_k_next = np.dot(B, X_k_next) + np.random.normal(loc=0, scale=sigma2, size=2).reshape(2,1)\n",
    "    X.append(X_k_next)    \n",
    "    Y.append(Y_k_next)\n",
    "\n",
    "def sliding_windows(data, seq_length):\n",
    "    x = []\n",
    "    y = []\n",
    "\n",
    "    for i in range(len(data)-seq_length-1):\n",
    "        _x = data[i:(i+seq_length)]\n",
    "        _y = data[i+seq_length]\n",
    "        x.append(_x)\n",
    "        y.append(_y)\n",
    "\n",
    "    return np.array(x),np.array(y)"
   ]
  },
  {
   "cell_type": "code",
   "execution_count": 28,
   "id": "4db40d6c-6957-47df-a00c-c37af2d03919",
   "metadata": {},
   "outputs": [],
   "source": [
    "import torch\n",
    "import torch.nn as nn\n",
    "from torch.autograd import Variable\n",
    "import torch.utils.data as data_utils\n",
    "\n",
    "# Device configuration\n",
    "device = torch.device('cuda' if torch.cuda.is_available() else 'cpu')\n",
    "\n",
    "# Hyper-parameters\n",
    "sequence_length = 4\n",
    "input_size = 2\n",
    "hidden_size = 2\n",
    "num_layers = 1\n",
    "num_classes = 2\n",
    "batch_size = 1\n",
    "num_epochs = 5\n",
    "learning_rate = 0.001\n",
    "\n",
    "Y_seq, Y_target = sliding_windows(Y, sequence_length)\n",
    "Y_seq = Variable(torch.Tensor(Y_seq.reshape(-1, sequence_length, 1, 2)))\n",
    "Y_target = Variable(torch.Tensor(Y_target.reshape(-1, 1, 2)))\n",
    "train_samples = 1000\n",
    "\n",
    "train_tensor = data_utils.TensorDataset(Y_seq[:train_samples], Y_target[:train_samples]) \n",
    "train_loader = data_utils.DataLoader(dataset = train_tensor, batch_size = batch_size)\n",
    "\n",
    "test_tensor = data_utils.TensorDataset(Y_seq[(train_samples+1):], Y_target[(train_samples+1):]) \n",
    "test_loader = data_utils.DataLoader(dataset = test_tensor, batch_size = batch_size)\n",
    "\n",
    "# Recurrent neural network (many-to-one)\n",
    "class RNN(nn.Module):\n",
    "    def __init__(self, input_size, hidden_size, num_layers, num_classes):\n",
    "        super(RNN, self).__init__()\n",
    "        self.hidden_size = hidden_size\n",
    "        self.num_layers = num_layers\n",
    "        self.lstm = nn.LSTM(input_size, hidden_size, num_layers, batch_first=True)\n",
    "        self.fc = nn.Linear(hidden_size, num_classes)\n",
    "        self.last_hidden = None\n",
    "    \n",
    "    def forward(self, x):\n",
    "        # Set initial hidden and cell states \n",
    "        h0 = torch.zeros(self.num_layers, x.size(0), self.hidden_size).to(device) \n",
    "        c0 = torch.zeros(self.num_layers, x.size(0), self.hidden_size).to(device)\n",
    "        \n",
    "        # Forward propagate LSTM\n",
    "        out, hidden = self.lstm(x, (h0, c0))  # out: tensor of shape (batch_size, seq_length, hidden_size)\n",
    "        self.last_hidden = hidden\n",
    "        # Decode the hidden state of the last time step\n",
    "        out = self.fc(out[:, -1, :])\n",
    "                \n",
    "        return out\n",
    "\n",
    "model = RNN(input_size, hidden_size, num_layers, num_classes).to(device)"
   ]
  },
  {
   "cell_type": "code",
   "execution_count": 29,
   "id": "015312be-cd8b-425a-adf6-fcd4ca2a21b4",
   "metadata": {},
   "outputs": [
    {
     "name": "stdout",
     "output_type": "stream",
     "text": [
      "Epoch: 0, loss: 0.09449, test accuracy: 0.90459\n",
      "Epoch: 1, loss: 0.10764, test accuracy: 0.98154\n",
      "Epoch: 2, loss: 0.08181, test accuracy: 0.97872\n",
      "Epoch: 3, loss: 0.07128, test accuracy: 0.97682\n",
      "Epoch: 4, loss: 0.06604, test accuracy: 0.97559\n",
      "====================\n",
      "Best model using the validation set:\n",
      " epoch:         [1]\n",
      " loss:          [0.10763672739267349]\n",
      " test accuracy: [0.9815373905003071]\n",
      "\n",
      "====================\n"
     ]
    },
    {
     "data": {
      "text/plain": [
       "<All keys matched successfully>"
      ]
     },
     "execution_count": 29,
     "metadata": {},
     "output_type": "execute_result"
    }
   ],
   "source": [
    "# Loss and optimizer\n",
    "criterion = nn.MSELoss()\n",
    "optimizer = torch.optim.Adam(model.parameters(), lr=learning_rate)\n",
    "total_step = len(train_loader)\n",
    "best_model = {\n",
    "    'epoch': -1,\n",
    "    'model_state_dict': None,\n",
    "    'accuracy': 0,\n",
    "    'loss': 1,\n",
    "}\n",
    "# Train the model\n",
    "for epoch in range(num_epochs):\n",
    "    for i, (Y_seq_i, Y_target_i) in enumerate(train_loader):\n",
    "        model.train()\n",
    "        \n",
    "        Y_seq_i = Y_seq_i.reshape(-1, sequence_length, input_size).to(device)\n",
    "        Y_target_i = Y_target_i.reshape(-1, num_classes).to(device)\n",
    "        # Forward pass\n",
    "        outputs = model(Y_seq_i)\n",
    "        loss = criterion(outputs, Y_target_i)\n",
    "        \n",
    "        # Backward and optimize\n",
    "        optimizer.zero_grad()\n",
    "        loss.backward()\n",
    "        optimizer.step()\n",
    "        \n",
    "        if (i+1) % 1000 == 0:\n",
    "            model.eval()\n",
    "            test_criterion = torch.nn.MSELoss()\n",
    "            test_loss = 0\n",
    "            for i, (Y_seq_i, Y_target_i) in enumerate(test_loader):\n",
    "                Y_seq_i = Y_seq_i.reshape(-1, sequence_length, input_size).to(device)\n",
    "                Y_target_i = Y_target_i.reshape(-1, num_classes).to(device)\n",
    "                test_outputs = model(Y_seq_i)\n",
    "                test_loss = test_criterion(test_outputs, Y_target_i)\n",
    "                \n",
    "            test_accuracy = 1 - test_loss.item()\n",
    "            if best_model['accuracy'] < test_accuracy:\n",
    "                best_model = {\n",
    "                    'epoch': epoch,\n",
    "                    'model_state_dict': model.state_dict(),\n",
    "                    'accuracy': test_accuracy,\n",
    "                    'loss': loss.item(),\n",
    "                }\n",
    "            print(\"Epoch: %d, loss: %1.5f, test accuracy: %1.5f\" % (epoch, loss.item(), test_accuracy))\n",
    "print(\"=\"*20)\n",
    "print(f\"Best model using the validation set:\\n\"\n",
    "      f\" epoch:         [{best_model['epoch']}]\\n\"\n",
    "      f\" loss:          [{best_model['loss']}]\\n\"\n",
    "      f\" test accuracy: [{best_model['accuracy']}]\\n\")\n",
    "print(\"=\"*20)\n",
    "\n",
    "model = RNN(input_size, hidden_size, num_layers, num_classes).to(device)\n",
    "model.load_state_dict(best_model['model_state_dict'])"
   ]
  },
  {
   "cell_type": "code",
   "execution_count": 30,
   "id": "2e7ba50a-0d92-4568-94ac-90d5cf69d360",
   "metadata": {},
   "outputs": [],
   "source": [
    "model.eval()\n",
    "Y_seq_1001, Y_target_1001 = iter(test_loader).next()\n",
    "\n",
    "Y_seq_1001 = Y_seq_1001.reshape(-1, sequence_length, input_size).to(device)\n",
    "Y_target_1001 = Y_target_1001.reshape(-1, num_classes).to(device)\n",
    "    \n",
    "Y1001_hat = model(Y_seq_1001)"
   ]
  },
  {
   "cell_type": "code",
   "execution_count": 31,
   "id": "516d9b2b-6063-4509-8d90-75639a70364d",
   "metadata": {},
   "outputs": [
    {
     "data": {
      "text/plain": [
       "tensor([[0.6765, 0.3503]])"
      ]
     },
     "execution_count": 31,
     "metadata": {},
     "output_type": "execute_result"
    }
   ],
   "source": [
    "Y1001_hat.data"
   ]
  },
  {
   "cell_type": "code",
   "execution_count": 32,
   "id": "bdc2acc2-445c-42cc-94f3-0aae630c0a77",
   "metadata": {},
   "outputs": [
    {
     "data": {
      "text/plain": [
       "tensor([[0.5093, 0.2328]])"
      ]
     },
     "execution_count": 32,
     "metadata": {},
     "output_type": "execute_result"
    }
   ],
   "source": [
    "Y_target_1001"
   ]
  },
  {
   "cell_type": "code",
   "execution_count": 33,
   "id": "1b4fd9ff-4944-4c2f-b7e4-8245a8964102",
   "metadata": {},
   "outputs": [
    {
     "data": {
      "text/plain": [
       "(tensor([[[-0.7424,  0.1528]]], grad_fn=<StackBackward0>),\n",
       " tensor([[[-1.0916,  0.1751]]], grad_fn=<StackBackward0>))"
      ]
     },
     "execution_count": 33,
     "metadata": {},
     "output_type": "execute_result"
    }
   ],
   "source": [
    "model.last_hidden"
   ]
  },
  {
   "cell_type": "code",
   "execution_count": 34,
   "id": "d2128469-d76d-4fe1-bc5d-22cd11735929",
   "metadata": {},
   "outputs": [
    {
     "data": {
      "text/plain": [
       "array([[0.50929014],\n",
       "       [0.23276622]])"
      ]
     },
     "execution_count": 34,
     "metadata": {},
     "output_type": "execute_result"
    }
   ],
   "source": [
    "Y[train_samples+sequence_length+1]"
   ]
  },
  {
   "cell_type": "code",
   "execution_count": 35,
   "id": "f7127af0-7a32-412f-be28-5a4b8e6da4cb",
   "metadata": {},
   "outputs": [
    {
     "data": {
      "text/plain": [
       "array([[0.80354182],\n",
       "       [0.14426469]])"
      ]
     },
     "execution_count": 35,
     "metadata": {},
     "output_type": "execute_result"
    }
   ],
   "source": [
    "np.dot(B, X[train_samples+sequence_length+1])"
   ]
  },
  {
   "cell_type": "code",
   "execution_count": 38,
   "id": "2e717eea-ef50-42e3-9a6c-43ba162ff219",
   "metadata": {},
   "outputs": [
    {
     "data": {
      "text/plain": [
       "array([[-1.0916133 ],\n",
       "       [ 0.17512082]], dtype=float32)"
      ]
     },
     "execution_count": 38,
     "metadata": {},
     "output_type": "execute_result"
    }
   ],
   "source": [
    "(hn, cn) = model.last_hidden\n",
    "Xhat = cn.data.reshape(2, 1).numpy()\n",
    "Xhat"
   ]
  },
  {
   "cell_type": "code",
   "execution_count": 39,
   "id": "8eca0dda-4601-400d-9776-db94518f746a",
   "metadata": {},
   "outputs": [
    {
     "data": {
      "text/plain": [
       "array([[-0.94700798],\n",
       "       [-0.64805805]])"
      ]
     },
     "execution_count": 39,
     "metadata": {},
     "output_type": "execute_result"
    }
   ],
   "source": [
    "np.dot(B, Xhat)"
   ]
  },
  {
   "cell_type": "code",
   "execution_count": 15,
   "id": "d5a6bbcc-0d3e-4c4b-8e8e-4bc584b0c9d7",
   "metadata": {},
   "outputs": [
    {
     "data": {
      "text/plain": [
       "array([[-0.02047363],\n",
       "       [-0.7645826 ]], dtype=float32)"
      ]
     },
     "execution_count": 15,
     "metadata": {},
     "output_type": "execute_result"
    }
   ],
   "source": [
    "Xhat"
   ]
  },
  {
   "cell_type": "code",
   "execution_count": null,
   "id": "cb1b80c1-7586-4212-980d-8bc0c905a749",
   "metadata": {},
   "outputs": [],
   "source": []
  }
 ],
 "metadata": {
  "kernelspec": {
   "display_name": "Python 3 (ipykernel)",
   "language": "python",
   "name": "python3"
  },
  "language_info": {
   "codemirror_mode": {
    "name": "ipython",
    "version": 3
   },
   "file_extension": ".py",
   "mimetype": "text/x-python",
   "name": "python",
   "nbconvert_exporter": "python",
   "pygments_lexer": "ipython3",
   "version": "3.9.7"
  }
 },
 "nbformat": 4,
 "nbformat_minor": 5
}
