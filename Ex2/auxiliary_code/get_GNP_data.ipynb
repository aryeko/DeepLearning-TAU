{
 "cells": [
  {
   "cell_type": "code",
   "execution_count": 5,
   "metadata": {},
   "outputs": [],
   "source": [
    "import numpy as np\n",
    "import pandas as pd"
   ]
  },
  {
   "cell_type": "code",
   "execution_count": 6,
   "metadata": {},
   "outputs": [
    {
     "name": "stdout",
     "output_type": "stream",
     "text": [
      "(123, 8)\n"
     ]
    },
    {
     "data": {
      "text/html": [
       "<div>\n",
       "<style scoped>\n",
       "    .dataframe tbody tr th:only-of-type {\n",
       "        vertical-align: middle;\n",
       "    }\n",
       "\n",
       "    .dataframe tbody tr th {\n",
       "        vertical-align: top;\n",
       "    }\n",
       "\n",
       "    .dataframe thead th {\n",
       "        text-align: right;\n",
       "    }\n",
       "</style>\n",
       "<table border=\"1\" class=\"dataframe\">\n",
       "  <thead>\n",
       "    <tr style=\"text-align: right;\">\n",
       "      <th></th>\n",
       "      <th>rgnp</th>\n",
       "      <th>pgnp</th>\n",
       "      <th>ulc</th>\n",
       "      <th>gdfco</th>\n",
       "      <th>gdf</th>\n",
       "      <th>gdfim</th>\n",
       "      <th>gdfcf</th>\n",
       "      <th>gdfce</th>\n",
       "    </tr>\n",
       "    <tr>\n",
       "      <th>date</th>\n",
       "      <th></th>\n",
       "      <th></th>\n",
       "      <th></th>\n",
       "      <th></th>\n",
       "      <th></th>\n",
       "      <th></th>\n",
       "      <th></th>\n",
       "      <th></th>\n",
       "    </tr>\n",
       "  </thead>\n",
       "  <tbody>\n",
       "    <tr>\n",
       "      <th>1988-07-01</th>\n",
       "      <td>4042.7</td>\n",
       "      <td>3971.9</td>\n",
       "      <td>179.6</td>\n",
       "      <td>131.5</td>\n",
       "      <td>124.9</td>\n",
       "      <td>106.2</td>\n",
       "      <td>123.5</td>\n",
       "      <td>92.8</td>\n",
       "    </tr>\n",
       "    <tr>\n",
       "      <th>1988-10-01</th>\n",
       "      <td>4069.4</td>\n",
       "      <td>3995.8</td>\n",
       "      <td>181.3</td>\n",
       "      <td>133.3</td>\n",
       "      <td>126.2</td>\n",
       "      <td>107.3</td>\n",
       "      <td>124.9</td>\n",
       "      <td>92.9</td>\n",
       "    </tr>\n",
       "    <tr>\n",
       "      <th>1989-01-01</th>\n",
       "      <td>4106.8</td>\n",
       "      <td>4019.9</td>\n",
       "      <td>184.1</td>\n",
       "      <td>134.8</td>\n",
       "      <td>127.7</td>\n",
       "      <td>109.5</td>\n",
       "      <td>126.6</td>\n",
       "      <td>94.0</td>\n",
       "    </tr>\n",
       "    <tr>\n",
       "      <th>1989-04-01</th>\n",
       "      <td>4132.5</td>\n",
       "      <td>4044.1</td>\n",
       "      <td>186.1</td>\n",
       "      <td>134.8</td>\n",
       "      <td>129.3</td>\n",
       "      <td>111.1</td>\n",
       "      <td>129.0</td>\n",
       "      <td>100.6</td>\n",
       "    </tr>\n",
       "    <tr>\n",
       "      <th>1989-07-01</th>\n",
       "      <td>4162.9</td>\n",
       "      <td>4068.4</td>\n",
       "      <td>187.4</td>\n",
       "      <td>137.2</td>\n",
       "      <td>130.2</td>\n",
       "      <td>109.8</td>\n",
       "      <td>129.9</td>\n",
       "      <td>98.2</td>\n",
       "    </tr>\n",
       "  </tbody>\n",
       "</table>\n",
       "</div>"
      ],
      "text/plain": [
       "              rgnp    pgnp    ulc  gdfco    gdf  gdfim  gdfcf  gdfce\n",
       "date                                                                \n",
       "1988-07-01  4042.7  3971.9  179.6  131.5  124.9  106.2  123.5   92.8\n",
       "1988-10-01  4069.4  3995.8  181.3  133.3  126.2  107.3  124.9   92.9\n",
       "1989-01-01  4106.8  4019.9  184.1  134.8  127.7  109.5  126.6   94.0\n",
       "1989-04-01  4132.5  4044.1  186.1  134.8  129.3  111.1  129.0  100.6\n",
       "1989-07-01  4162.9  4068.4  187.4  137.2  130.2  109.8  129.9   98.2"
      ]
     },
     "execution_count": 6,
     "metadata": {},
     "output_type": "execute_result"
    }
   ],
   "source": [
    "filepath = 'https://raw.githubusercontent.com/selva86/datasets/master/Raotbl6.csv'\n",
    "df = pd.read_csv(filepath, parse_dates=['date'], index_col='date')\n",
    "print(df.shape)  # (123, 8)\n",
    "df.tail()"
   ]
  },
  {
   "cell_type": "markdown",
   "metadata": {},
   "source": [
    "1. rgnp  : Real GNP.\n",
    "2. pgnp  : Potential real GNP.\n",
    "3. ulc   : Unit labor cost.\n",
    "4. gdfco : Fixed weight deflator for personal consumption expenditure excluding food and energy.\n",
    "5. gdf   : Fixed weight GNP deflator.\n",
    "6. gdfim : Fixed weight import deflator.\n",
    "7. gdfcf : Fixed weight deflator for food in personal consumption expenditure.\n",
    "8. gdfce : Fixed weight deflator for energy in personal consumption expenditure."
   ]
  },
  {
   "cell_type": "markdown",
   "metadata": {},
   "source": [
    "# Auxiliary code - hypothesis tests"
   ]
  },
  {
   "cell_type": "code",
   "execution_count": 11,
   "metadata": {},
   "outputs": [
    {
     "name": "stdout",
     "output_type": "stream",
     "text": [
      "p_values =  [0.3256, 0.1849, 0.111, 0.2159, 0.2772, 0.0106, 0.0152, 0.0126, 0.0211, 0.0401]\n",
      "min_p_value =  0.0106\n"
     ]
    }
   ],
   "source": [
    "from statsmodels.tsa.stattools import grangercausalitytests\n",
    "test = 'ssr_chi2test'\n",
    "test_result = grangercausalitytests(df[['rgnp','pgnp']], maxlag=10, verbose=False)\n",
    "p_values = [round(test_result[i+1][0][test][1],4) for i in range(10)]\n",
    "print('p_values = ',p_values)\n",
    "print('min_p_value = ',np.min(p_values))\n"
   ]
  },
  {
   "cell_type": "code",
   "execution_count": 16,
   "metadata": {},
   "outputs": [
    {
     "name": "stdout",
     "output_type": "stream",
     "text": [
      "{'test_statistic': 0.6419, 'pvalue': 0.9886, 'n_lags': 2, 'n_obs': 120}\n"
     ]
    }
   ],
   "source": [
    "from statsmodels.tsa.stattools import adfuller\n",
    "from statsmodels.tools.eval_measures import rmse, aic\n",
    "\n",
    "r = adfuller(df['rgnp'], autolag='AIC')\n",
    "output = {'test_statistic':round(r[0], 4), 'pvalue':round(r[1], 4), 'n_lags':round(r[2], 4), 'n_obs':r[3]}\n",
    "p_value = output['pvalue'] \n",
    "print(output)"
   ]
  },
  {
   "cell_type": "code",
   "execution_count": 18,
   "metadata": {},
   "outputs": [
    {
     "name": "stdout",
     "output_type": "stream",
     "text": [
      "{'test_statistic': -5.4276, 'pvalue': 0.0, 'n_lags': 1, 'n_obs': 120}\n"
     ]
    }
   ],
   "source": [
    "v = df.rgnp.values\n",
    "dv = np.diff(v)\n",
    "r = adfuller(dv, autolag='AIC')\n",
    "output = {'test_statistic':round(r[0], 4), 'pvalue':round(r[1], 4), 'n_lags':round(r[2], 4), 'n_obs':r[3]}\n",
    "p_value = output['pvalue'] \n",
    "print(output)\n",
    "\n"
   ]
  },
  {
   "cell_type": "code",
   "execution_count": 13,
   "metadata": {},
   "outputs": [
    {
     "data": {
      "text/plain": [
       "<AxesSubplot:xlabel='date'>"
      ]
     },
     "execution_count": 13,
     "metadata": {},
     "output_type": "execute_result"
    },
    {
     "data": {
      "image/png": "[encoded data removed]",
      "text/plain": [
       "<Figure size 432x288 with 1 Axes>"
      ]
     },
     "metadata": {
      "needs_background": "light"
     },
     "output_type": "display_data"
    }
   ],
   "source": [
    "df['rgnp'].diff().plot()"
   ]
  },
  {
   "cell_type": "code",
   "execution_count": 12,
   "metadata": {},
   "outputs": [
    {
     "data": {
      "text/plain": [
       "date\n",
       "1959-01-01    1606.4\n",
       "1959-04-01    1637.0\n",
       "1959-07-01    1629.5\n",
       "1959-10-01    1643.4\n",
       "1960-01-01    1671.6\n",
       "               ...  \n",
       "1988-07-01    4042.7\n",
       "1988-10-01    4069.4\n",
       "1989-01-01    4106.8\n",
       "1989-04-01    4132.5\n",
       "1989-07-01    4162.9\n",
       "Name: rgnp, Length: 123, dtype: float64"
      ]
     },
     "execution_count": 12,
     "metadata": {},
     "output_type": "execute_result"
    }
   ],
   "source": [
    "df['rgnp']"
   ]
  },
  {
   "cell_type": "code",
   "execution_count": null,
   "metadata": {},
   "outputs": [],
   "source": [
    "# AR example from: https://vitalflux.com/autoregressive-ar-models-with-python-examples/"
   ]
  },
  {
   "cell_type": "code",
   "execution_count": 24,
   "metadata": {},
   "outputs": [
    {
     "name": "stdout",
     "output_type": "stream",
     "text": [
      "P-value:  2.9633019848469267e-06\n"
     ]
    },
    {
     "name": "stderr",
     "output_type": "stream",
     "text": [
      "/opt/conda/lib/python3.9/site-packages/statsmodels/graphics/tsaplots.py:348: FutureWarning: The default method 'yw' can produce PACF values outside of the [-1,1] interval. After 0.13, the default will change tounadjusted Yule-Walker ('ywm'). You can use this method now by setting method='ywm'.\n",
      "  warnings.warn(\n"
     ]
    },
    {
     "data": {
      "image/png": "[encoded data removed]",
      "text/plain": [
       "<Figure size 432x288 with 1 Axes>"
      ]
     },
     "metadata": {
      "needs_background": "light"
     },
     "output_type": "display_data"
    }
   ],
   "source": [
    "v=df['rgnp'].diff()[1:].values\n",
    "#\n",
    "# Check for stationarity of the time-series data\n",
    "# We will look for p-value. In case, p-value is less than 0.05, the time series\n",
    "# data can said to have stationarity\n",
    "#\n",
    "from statsmodels.tsa.stattools import adfuller\n",
    "#\n",
    "# Run the test\n",
    "#\n",
    "df_stationarityTest = adfuller(v, autolag='AIC')\n",
    "#\n",
    "# Check the value of p-value\n",
    "#\n",
    "print(\"P-value: \", df_stationarityTest[1])\n",
    "#\n",
    "# Next step is to find the order of AR model to be trained\n",
    "# for this, we will plot partial autocorrelation plot to assess\n",
    "# the direct effect of past data on future data\n",
    "#\n",
    "from statsmodels.graphics.tsaplots import plot_pacf\n",
    "pacf = plot_pacf(v, lags=25)"
   ]
  },
  {
   "cell_type": "code",
   "execution_count": 30,
   "metadata": {},
   "outputs": [
    {
     "name": "stdout",
     "output_type": "stream",
     "text": [
      "                            AutoReg Model Results                             \n",
      "==============================================================================\n",
      "Dep. Variable:                      y   No. Observations:                  112\n",
      "Model:                     AutoReg(1)   Log Likelihood                -522.681\n",
      "Method:               Conditional MLE   S.D. of innovations             26.840\n",
      "Date:                Sat, 18 Dec 2021   AIC                           1051.362\n",
      "Time:                        16:18:33   BIC                           1059.491\n",
      "Sample:                             1   HQIC                          1054.660\n",
      "                                  112                                         \n",
      "==============================================================================\n",
      "                 coef    std err          z      P>|z|      [0.025      0.975]\n",
      "------------------------------------------------------------------------------\n",
      "const         14.2338      3.098      4.595      0.000       8.163      20.305\n",
      "y.L1           0.2661      0.092      2.894      0.004       0.086       0.446\n",
      "                                    Roots                                    \n",
      "=============================================================================\n",
      "                  Real          Imaginary           Modulus         Frequency\n",
      "-----------------------------------------------------------------------------\n",
      "AR.1            3.7580           +0.0000j            3.7580            0.0000\n",
      "-----------------------------------------------------------------------------\n"
     ]
    }
   ],
   "source": [
    "#\n",
    "# Create training and test data\n",
    "#\n",
    "train_data = v[:len(v)-10]\n",
    "test_data = v[len(v)-10:]\n",
    "#\n",
    "# Instantiate and fit the AR model with training data\n",
    "#\n",
    "from statsmodels.tsa.ar_model import AutoReg\n",
    "ar_model = AutoReg(train_data, lags=1).fit()\n",
    "#\n",
    "# Print Summary\n",
    "#\n",
    "print(ar_model.summary())"
   ]
  },
  {
   "cell_type": "code",
   "execution_count": 31,
   "metadata": {},
   "outputs": [
    {
     "data": {
      "text/plain": [
       "[<matplotlib.lines.Line2D at 0xffff454a86d0>]"
      ]
     },
     "execution_count": 31,
     "metadata": {},
     "output_type": "execute_result"
    },
    {
     "data": {
      "image/png": "[encoded data removed]",
      "text/plain": [
       "<Figure size 432x288 with 1 Axes>"
      ]
     },
     "metadata": {
      "needs_background": "light"
     },
     "output_type": "display_data"
    }
   ],
   "source": [
    "#\n",
    "# Make the predictions\n",
    "#\n",
    "pred = ar_model.predict(start=len(train_data), end=(len(v)-1), dynamic=False)\n",
    "#\n",
    "# Plot the prediction vs test data\n",
    "#\n",
    "from matplotlib import pyplot\n",
    "pyplot.plot(pred)\n",
    "pyplot.plot(test_data, color='red')"
   ]
  },
  {
   "cell_type": "code",
   "execution_count": null,
   "metadata": {},
   "outputs": [],
   "source": [
    "# var in: https://www.machinelearningplus.com/time-series/vector-autoregression-examples-python/"
   ]
  }
 ],
 "metadata": {
  "kernelspec": {
   "display_name": "Python 3 (ipykernel)",
   "language": "python",
   "name": "python3"
  },
  "language_info": {
   "codemirror_mode": {
    "name": "ipython",
    "version": 3
   },
   "file_extension": ".py",
   "mimetype": "text/x-python",
   "name": "python",
   "nbconvert_exporter": "python",
   "pygments_lexer": "ipython3",
   "version": "3.9.7"
  }
 },
 "nbformat": 4,
 "nbformat_minor": 4
}
