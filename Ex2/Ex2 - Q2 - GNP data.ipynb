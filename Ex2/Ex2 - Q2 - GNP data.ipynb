{
 "cells": [
  {
   "cell_type": "markdown",
   "id": "fa2462ee-6a70-4aea-9336-ba27a70ce2b4",
   "metadata": {},
   "source": [
    "# Question 2\n",
    "\n",
    "A data follows the following model for a time series:\n",
    "- Use the notebook get GNP data.ipynb to get the data\n",
    "- Use AR model on rgnp to predict the last 10 observations. \n",
    "    - Adjust the number of lags to consider using any model selection criteria you choose.\n",
    "- Use VAR model (vector auto-regressive) to predict the last 10 observations of the data\n",
    "- Replace the prediction models in the last two sections with corresponding LSTM models.\n",
    "    - The LSTM models should be implemeted in PyTorch. \n",
    "    - You should optimize the hidden state size using validation set.\n",
    "    \n",
    "Hint: \n",
    "- For the regression model you may prefer to work on derivatives of the series. \n",
    "- You can check the order of derivation using Augmented Dickey-Fuller test."
   ]
  },
  {
   "cell_type": "code",
   "execution_count": 6,
   "id": "8aff7f5d-161c-43d2-a0a7-d5bc317eb6b9",
   "metadata": {},
   "outputs": [],
   "source": [
    "import numpy as np\n",
    "import pandas as pd"
   ]
  },
  {
   "cell_type": "code",
   "execution_count": 7,
   "id": "87520833-ae31-4510-ab39-d4634e0bd05a",
   "metadata": {},
   "outputs": [
    {
     "data": {
      "text/html": [
       "<div>\n",
       "<style scoped>\n",
       "    .dataframe tbody tr th:only-of-type {\n",
       "        vertical-align: middle;\n",
       "    }\n",
       "\n",
       "    .dataframe tbody tr th {\n",
       "        vertical-align: top;\n",
       "    }\n",
       "\n",
       "    .dataframe thead th {\n",
       "        text-align: right;\n",
       "    }\n",
       "</style>\n",
       "<table border=\"1\" class=\"dataframe\">\n",
       "  <thead>\n",
       "    <tr style=\"text-align: right;\">\n",
       "      <th></th>\n",
       "      <th>rgnp</th>\n",
       "      <th>pgnp</th>\n",
       "      <th>ulc</th>\n",
       "      <th>gdfco</th>\n",
       "      <th>gdf</th>\n",
       "      <th>gdfim</th>\n",
       "      <th>gdfcf</th>\n",
       "      <th>gdfce</th>\n",
       "    </tr>\n",
       "    <tr>\n",
       "      <th>date</th>\n",
       "      <th></th>\n",
       "      <th></th>\n",
       "      <th></th>\n",
       "      <th></th>\n",
       "      <th></th>\n",
       "      <th></th>\n",
       "      <th></th>\n",
       "      <th></th>\n",
       "    </tr>\n",
       "  </thead>\n",
       "  <tbody>\n",
       "    <tr>\n",
       "      <th>1988-07-01</th>\n",
       "      <td>4042.7</td>\n",
       "      <td>3971.9</td>\n",
       "      <td>179.6</td>\n",
       "      <td>131.5</td>\n",
       "      <td>124.9</td>\n",
       "      <td>106.2</td>\n",
       "      <td>123.5</td>\n",
       "      <td>92.8</td>\n",
       "    </tr>\n",
       "    <tr>\n",
       "      <th>1988-10-01</th>\n",
       "      <td>4069.4</td>\n",
       "      <td>3995.8</td>\n",
       "      <td>181.3</td>\n",
       "      <td>133.3</td>\n",
       "      <td>126.2</td>\n",
       "      <td>107.3</td>\n",
       "      <td>124.9</td>\n",
       "      <td>92.9</td>\n",
       "    </tr>\n",
       "    <tr>\n",
       "      <th>1989-01-01</th>\n",
       "      <td>4106.8</td>\n",
       "      <td>4019.9</td>\n",
       "      <td>184.1</td>\n",
       "      <td>134.8</td>\n",
       "      <td>127.7</td>\n",
       "      <td>109.5</td>\n",
       "      <td>126.6</td>\n",
       "      <td>94.0</td>\n",
       "    </tr>\n",
       "    <tr>\n",
       "      <th>1989-04-01</th>\n",
       "      <td>4132.5</td>\n",
       "      <td>4044.1</td>\n",
       "      <td>186.1</td>\n",
       "      <td>134.8</td>\n",
       "      <td>129.3</td>\n",
       "      <td>111.1</td>\n",
       "      <td>129.0</td>\n",
       "      <td>100.6</td>\n",
       "    </tr>\n",
       "    <tr>\n",
       "      <th>1989-07-01</th>\n",
       "      <td>4162.9</td>\n",
       "      <td>4068.4</td>\n",
       "      <td>187.4</td>\n",
       "      <td>137.2</td>\n",
       "      <td>130.2</td>\n",
       "      <td>109.8</td>\n",
       "      <td>129.9</td>\n",
       "      <td>98.2</td>\n",
       "    </tr>\n",
       "  </tbody>\n",
       "</table>\n",
       "</div>"
      ],
      "text/plain": [
       "              rgnp    pgnp    ulc  gdfco    gdf  gdfim  gdfcf  gdfce\n",
       "date                                                                \n",
       "1988-07-01  4042.7  3971.9  179.6  131.5  124.9  106.2  123.5   92.8\n",
       "1988-10-01  4069.4  3995.8  181.3  133.3  126.2  107.3  124.9   92.9\n",
       "1989-01-01  4106.8  4019.9  184.1  134.8  127.7  109.5  126.6   94.0\n",
       "1989-04-01  4132.5  4044.1  186.1  134.8  129.3  111.1  129.0  100.6\n",
       "1989-07-01  4162.9  4068.4  187.4  137.2  130.2  109.8  129.9   98.2"
      ]
     },
     "execution_count": 7,
     "metadata": {},
     "output_type": "execute_result"
    }
   ],
   "source": [
    "filepath = 'https://raw.githubusercontent.com/selva86/datasets/master/Raotbl6.csv'\n",
    "df = pd.read_csv(filepath, parse_dates=['date'], index_col='date')\n",
    "# print(df.shape)  # (123, 8)\n",
    "df.tail()"
   ]
  },
  {
   "cell_type": "markdown",
   "id": "0c850a04-3be0-4707-aa8e-dab1f7172c26",
   "metadata": {},
   "source": [
    "1. rgnp  : Real GNP.\n",
    "2. pgnp  : Potential real GNP.\n",
    "3. ulc   : Unit labor cost.\n",
    "4. gdfco : Fixed weight deflator for personal consumption expenditure excluding food and energy.\n",
    "5. gdf   : Fixed weight GNP deflator.\n",
    "6. gdfim : Fixed weight import deflator.\n",
    "7. gdfcf : Fixed weight deflator for food in personal consumption expenditure.\n",
    "8. gdfce : Fixed weight deflator for energy in personal consumption expenditure."
   ]
  },
  {
   "cell_type": "markdown",
   "id": "1d675145-df1d-4ee1-b0af-22a689f0d47c",
   "metadata": {},
   "source": [
    "## Using AR model for rgnp"
   ]
  },
  {
   "cell_type": "markdown",
   "id": "915ed7af-11e8-4a4a-8cdf-29c73de8cd4e",
   "metadata": {},
   "source": [
    "### testing for stationarity"
   ]
  },
  {
   "cell_type": "code",
   "execution_count": 8,
   "id": "a8630f91-cb53-4d30-9442-be6ca98577a1",
   "metadata": {},
   "outputs": [
    {
     "name": "stdout",
     "output_type": "stream",
     "text": [
      "ADF Statistic: 0.641882\n",
      "p-value: 0.988604\n"
     ]
    }
   ],
   "source": [
    "from statsmodels.tsa.stattools import adfuller\n",
    "\n",
    "result = adfuller(df['rgnp'])\n",
    "print('ADF Statistic: %f' % result[0])\n",
    "print('p-value: %f' % result[1])"
   ]
  },
  {
   "cell_type": "markdown",
   "id": "ccab1907-f3ae-4c0e-84c6-184769ede495",
   "metadata": {},
   "source": []
  },
  {
   "cell_type": "code",
   "execution_count": 10,
   "id": "8d1d6e3e-33b4-4ccf-b11d-cfa7d67156df",
   "metadata": {},
   "outputs": [
    {
     "name": "stdout",
     "output_type": "stream",
     "text": [
      "ADF Statistic: -5.427594\n",
      "p-value: 0.000003\n"
     ]
    }
   ],
   "source": [
    "result = adfuller(df['rgnp'].diff().dropna())\n",
    "print('ADF Statistic: %f' % result[0])\n",
    "print('p-value: %f' % result[1])"
   ]
  },
  {
   "cell_type": "markdown",
   "id": "9d2bc611-0637-49da-b7e4-3bae807e996c",
   "metadata": {},
   "source": [
    "# Auxiliary code - hypothesis tests"
   ]
  },
  {
   "cell_type": "code",
   "execution_count": 11,
   "id": "5f0b7af3-1d14-4982-aaec-032790856e6f",
   "metadata": {},
   "outputs": [
    {
     "name": "stdout",
     "output_type": "stream",
     "text": [
      "p_values =  [0.3256, 0.1849, 0.111, 0.2159, 0.2772, 0.0106, 0.0152, 0.0126, 0.0211, 0.0401]\n",
      "min_p_value =  0.0106\n"
     ]
    }
   ],
   "source": [
    "from statsmodels.tsa.stattools import grangercausalitytests\n",
    "test = 'ssr_chi2test'\n",
    "test_result = grangercausalitytests(df[['rgnp','pgnp']], maxlag=10, verbose=False)\n",
    "p_values = [round(test_result[i+1][0][test][1],4) for i in range(10)]\n",
    "print('p_values = ',p_values)\n",
    "print('min_p_value = ',np.min(p_values))\n"
   ]
  },
  {
   "cell_type": "code",
   "execution_count": 16,
   "id": "c6d99f5f-04bb-4384-99f0-9d2be91a907d",
   "metadata": {},
   "outputs": [
    {
     "name": "stdout",
     "output_type": "stream",
     "text": [
      "{'test_statistic': 0.6419, 'pvalue': 0.9886, 'n_lags': 2, 'n_obs': 120}\n"
     ]
    }
   ],
   "source": [
    "from statsmodels.tsa.stattools import adfuller\n",
    "from statsmodels.tools.eval_measures import rmse, aic\n",
    "\n",
    "r = adfuller(df['rgnp'], autolag='AIC')\n",
    "output = {'test_statistic':round(r[0], 4), 'pvalue':round(r[1], 4), 'n_lags':round(r[2], 4), 'n_obs':r[3]}\n",
    "p_value = output['pvalue'] \n",
    "print(output)"
   ]
  },
  {
   "cell_type": "code",
   "execution_count": 18,
   "id": "e5d3be2c-8dbc-416f-a101-21a61d2e643b",
   "metadata": {},
   "outputs": [
    {
     "name": "stdout",
     "output_type": "stream",
     "text": [
      "{'test_statistic': -5.4276, 'pvalue': 0.0, 'n_lags': 1, 'n_obs': 120}\n"
     ]
    }
   ],
   "source": [
    "v = df.rgnp.values\n",
    "dv = np.diff(v)\n",
    "r = adfuller(dv, autolag='AIC')\n",
    "output = {'test_statistic':round(r[0], 4), 'pvalue':round(r[1], 4), 'n_lags':round(r[2], 4), 'n_obs':r[3]}\n",
    "p_value = output['pvalue'] \n",
    "print(output)\n",
    "\n"
   ]
  },
  {
   "cell_type": "code",
   "execution_count": 3,
   "id": "8f8c0835-93c0-48d6-9618-156a1e0f2a16",
   "metadata": {},
   "outputs": [
    {
     "data": {
      "text/plain": [
       "<AxesSubplot:xlabel='date'>"
      ]
     },
     "execution_count": 3,
     "metadata": {},
     "output_type": "execute_result"
    },
    {
     "data": {
      "image/png": "[encoded data removed]",
      "text/plain": [
       "<Figure size 432x288 with 1 Axes>"
      ]
     },
     "metadata": {
      "needs_background": "light"
     },
     "output_type": "display_data"
    }
   ],
   "source": [
    "df.plot()"
   ]
  },
  {
   "cell_type": "code",
   "execution_count": 13,
   "id": "12060982-5f7d-47bc-b4db-816d10921742",
   "metadata": {},
   "outputs": [
    {
     "data": {
      "text/plain": [
       "<AxesSubplot:xlabel='date'>"
      ]
     },
     "execution_count": 13,
     "metadata": {},
     "output_type": "execute_result"
    },
    {
     "data": {
      "image/png": "[encoded data removed]",
      "text/plain": [
       "<Figure size 432x288 with 1 Axes>"
      ]
     },
     "metadata": {
      "needs_background": "light"
     },
     "output_type": "display_data"
    }
   ],
   "source": [
    "df['rgnp'].diff().plot()"
   ]
  },
  {
   "cell_type": "code",
   "execution_count": 12,
   "id": "e68ae111-600b-4d01-b5da-24c7174bd953",
   "metadata": {},
   "outputs": [
    {
     "data": {
      "text/plain": [
       "date\n",
       "1959-01-01    1606.4\n",
       "1959-04-01    1637.0\n",
       "1959-07-01    1629.5\n",
       "1959-10-01    1643.4\n",
       "1960-01-01    1671.6\n",
       "               ...  \n",
       "1988-07-01    4042.7\n",
       "1988-10-01    4069.4\n",
       "1989-01-01    4106.8\n",
       "1989-04-01    4132.5\n",
       "1989-07-01    4162.9\n",
       "Name: rgnp, Length: 123, dtype: float64"
      ]
     },
     "execution_count": 12,
     "metadata": {},
     "output_type": "execute_result"
    }
   ],
   "source": [
    "df['rgnp']"
   ]
  },
  {
   "cell_type": "code",
   "execution_count": null,
   "id": "68350e19-6707-462a-97c2-1d1859cd9903",
   "metadata": {},
   "outputs": [],
   "source": [
    "# AR example from: https://vitalflux.com/autoregressive-ar-models-with-python-examples/"
   ]
  },
  {
   "cell_type": "code",
   "execution_count": 4,
   "id": "e9c687bf-6733-46b8-b5cd-9a2cc21f9793",
   "metadata": {},
   "outputs": [
    {
     "name": "stdout",
     "output_type": "stream",
     "text": [
      "P-value:  2.9633019848469267e-06\n"
     ]
    },
    {
     "name": "stderr",
     "output_type": "stream",
     "text": [
      "/opt/conda/lib/python3.9/site-packages/statsmodels/graphics/tsaplots.py:348: FutureWarning: The default method 'yw' can produce PACF values outside of the [-1,1] interval. After 0.13, the default will change tounadjusted Yule-Walker ('ywm'). You can use this method now by setting method='ywm'.\n",
      "  warnings.warn(\n"
     ]
    },
    {
     "data": {
      "image/png": "[encoded data removed]",
      "text/plain": [
       "<Figure size 432x288 with 1 Axes>"
      ]
     },
     "metadata": {
      "needs_background": "light"
     },
     "output_type": "display_data"
    }
   ],
   "source": [
    "v=df['rgnp'].diff()[1:].values\n",
    "#\n",
    "# Check for stationarity of the time-series data\n",
    "# We will look for p-value. In case, p-value is less than 0.05, the time series\n",
    "# data can said to have stationarity\n",
    "#\n",
    "from statsmodels.tsa.stattools import adfuller\n",
    "#\n",
    "# Run the test\n",
    "#\n",
    "df_stationarityTest = adfuller(v, autolag='AIC')\n",
    "#\n",
    "# Check the value of p-value\n",
    "#\n",
    "print(\"P-value: \", df_stationarityTest[1])\n",
    "#\n",
    "# Next step is to find the order of AR model to be trained\n",
    "# for this, we will plot partial autocorrelation plot to assess\n",
    "# the direct effect of past data on future data\n",
    "#\n",
    "from statsmodels.graphics.tsaplots import plot_pacf\n",
    "pacf = plot_pacf(v, lags=25)"
   ]
  },
  {
   "cell_type": "code",
   "execution_count": 5,
   "id": "1d01160d-286e-476f-b65e-0022ff591294",
   "metadata": {},
   "outputs": [
    {
     "name": "stdout",
     "output_type": "stream",
     "text": [
      "                            AutoReg Model Results                             \n",
      "==============================================================================\n",
      "Dep. Variable:                      y   No. Observations:                  112\n",
      "Model:                     AutoReg(1)   Log Likelihood                -522.681\n",
      "Method:               Conditional MLE   S.D. of innovations             26.840\n",
      "Date:                Fri, 24 Dec 2021   AIC                           1051.362\n",
      "Time:                        14:55:12   BIC                           1059.491\n",
      "Sample:                             1   HQIC                          1054.660\n",
      "                                  112                                         \n",
      "==============================================================================\n",
      "                 coef    std err          z      P>|z|      [0.025      0.975]\n",
      "------------------------------------------------------------------------------\n",
      "const         14.2338      3.098      4.595      0.000       8.163      20.305\n",
      "y.L1           0.2661      0.092      2.894      0.004       0.086       0.446\n",
      "                                    Roots                                    \n",
      "=============================================================================\n",
      "                  Real          Imaginary           Modulus         Frequency\n",
      "-----------------------------------------------------------------------------\n",
      "AR.1            3.7580           +0.0000j            3.7580            0.0000\n",
      "-----------------------------------------------------------------------------\n"
     ]
    }
   ],
   "source": [
    "#\n",
    "# Create training and test data\n",
    "#\n",
    "train_data = v[:len(v)-10]\n",
    "test_data = v[len(v)-10:]\n",
    "#\n",
    "# Instantiate and fit the AR model with training data\n",
    "#\n",
    "from statsmodels.tsa.ar_model import AutoReg\n",
    "ar_model = AutoReg(train_data, lags=1).fit()\n",
    "#\n",
    "# Print Summary\n",
    "#\n",
    "print(ar_model.summary())"
   ]
  },
  {
   "cell_type": "code",
   "execution_count": 31,
   "id": "41e0e15e-1ef1-435d-8bcd-3abcc561d974",
   "metadata": {},
   "outputs": [
    {
     "data": {
      "text/plain": [
       "[<matplotlib.lines.Line2D at 0xffff454a86d0>]"
      ]
     },
     "execution_count": 31,
     "metadata": {},
     "output_type": "execute_result"
    },
    {
     "data": {
      "image/png": "[encoded data removed]",
      "text/plain": [
       "<Figure size 432x288 with 1 Axes>"
      ]
     },
     "metadata": {
      "needs_background": "light"
     },
     "output_type": "display_data"
    }
   ],
   "source": [
    "#\n",
    "# Make the predictions\n",
    "#\n",
    "pred = ar_model.predict(start=len(train_data), end=(len(v)-1), dynamic=False)\n",
    "#\n",
    "# Plot the prediction vs test data\n",
    "#\n",
    "from matplotlib import pyplot\n",
    "pyplot.plot(pred)\n",
    "pyplot.plot(test_data, color='red')"
   ]
  },
  {
   "cell_type": "code",
   "execution_count": null,
   "id": "b82cc63b-49f5-4b3c-bd26-56aa519ff986",
   "metadata": {},
   "outputs": [],
   "source": [
    "# var in: https://www.machinelearningplus.com/time-series/vector-autoregression-examples-python/"
   ]
  }
 ],
 "metadata": {
  "kernelspec": {
   "display_name": "Python 3 (ipykernel)",
   "language": "python",
   "name": "python3"
  },
  "language_info": {
   "codemirror_mode": {
    "name": "ipython",
    "version": 3
   },
   "file_extension": ".py",
   "mimetype": "text/x-python",
   "name": "python",
   "nbconvert_exporter": "python",
   "pygments_lexer": "ipython3",
   "version": "3.9.7"
  }
 },
 "nbformat": 4,
 "nbformat_minor": 5
}
